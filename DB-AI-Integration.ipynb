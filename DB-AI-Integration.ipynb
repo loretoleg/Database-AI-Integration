{
 "cells": [
  {
   "cell_type": "markdown",
   "metadata": {},
   "source": [
    "### Initiation"
   ]
  },
  {
   "cell_type": "code",
   "execution_count": null,
   "metadata": {},
   "outputs": [],
   "source": [
    "!wget https://download.oracle.com/otn_software/linux/instantclient/2114000/instantclient-basic-linux.x64-21.14.0.0.0dbru.zip\n",
    "!wget https://download.oracle.com/otn_software/linux/instantclient/2114000/instantclient-sdk-linux.x64-21.14.0.0.0dbru.zip\n",
    "\n",
    "!unzip instantclient-basic-linux.x64-21.14.0.0.0dbru.zip\n",
    "!unzip instantclient-sdk-linux.x64-21.14.0.0.0dbru.zip\n",
    "\n",
    "!rm instantclient-basic-linux.x64-21.14.0.0.0dbru.zip\n",
    "!rm instantclient-sdk-linux.x64-21.14.0.0.0dbru.zip\n",
    "\n",
    "!sudo apt-get update\n",
    "!sudo apt-get install libaio1\n",
    "\n",
    "!pip install cx_Oracle\n",
    "!pip install python-dotenv\n",
    "!pip install sqlalchemy\n",
    "\n"
   ]
  },
  {
   "cell_type": "code",
   "execution_count": 6,
   "metadata": {},
   "outputs": [
    {
     "name": "stdout",
     "output_type": "stream",
     "text": [
      "/workspaces/Database-AI-Integration/instantclient_21_14\n",
      "Oracle Instant Client setup completed.\n"
     ]
    }
   ],
   "source": [
    "#!/bin/bash\n",
    "\n",
    "# Use sudo to update the Oracle Instant Client library path\n",
    "!echo \"/workspaces/Database-AI-Integration/instantclient_21_14\" | sudo tee /etc/ld.so.conf.d/oracle-instantclient.conf\n",
    "\n",
    "# Use sudo to update the shared library cache\n",
    "!sudo ldconfig\n",
    "\n",
    "# Export environment variables if necessary\n",
    "!export ORACLE_HOME=/workspaces/Database-AI-Integration/instantclient_21_14\n",
    "!export PATH=$ORACLE_HOME:$PATH\n",
    "!export LD_LIBRARY_PATH=$ORACLE_HOME\n",
    "\n",
    "!echo \"Oracle Instant Client setup completed.\""
   ]
  },
  {
   "cell_type": "markdown",
   "metadata": {},
   "source": [
    "### Connection details"
   ]
  },
  {
   "cell_type": "code",
   "execution_count": 7,
   "metadata": {},
   "outputs": [
    {
     "name": "stdout",
     "output_type": "stream",
     "text": [
      "Connection established successfully!\n"
     ]
    }
   ],
   "source": [
    "# Initialize and connection details\n",
    "import cx_Oracle\n",
    "from dotenv import load_dotenv\n",
    "import os\n",
    "\n",
    "# Initialize the Oracle client with the library directory\n",
    "cx_Oracle.init_oracle_client(lib_dir=\"/workspaces/Database-AI-Integration/instantclient_21_14\")\n",
    "\n",
    "# Connection details\n",
    "load_dotenv()\n",
    "\n",
    "username = os.getenv('USERNAME')\n",
    "password = os.getenv('PASSWORD')\n",
    "host = os.getenv('HOST')\n",
    "port = os.getenv('PORT')\n",
    "service_name = os.getenv('SERVICE_NAME')\n",
    "\n",
    "# Create a connection string (DSN)\n",
    "dsn = cx_Oracle.makedsn(host, port, service_name=service_name)\n",
    "\n",
    "# Establish the connection\n",
    "connection = cx_Oracle.connect(username, password, dsn=dsn)\n",
    "print(\"Connection established successfully!\")\n",
    "\n"
   ]
  },
  {
   "cell_type": "markdown",
   "metadata": {},
   "source": [
    "### Fetching all Schema Names"
   ]
  },
  {
   "cell_type": "code",
   "execution_count": null,
   "metadata": {},
   "outputs": [],
   "source": [
    "from sqlalchemy import create_engine, inspect\n",
    "from prettytable import PrettyTable\n",
    "\n",
    "# Create the connection string\n",
    "connection_string = f\"oracle+cx_oracle://{username}:{password}@{host}:{port}/?service_name={service_name}\"\n",
    "\n",
    "# Create an SQLAlchemy engine\n",
    "engine = create_engine(connection_string)\n",
    "\n",
    "# Connect to the database and fetch schema names\n",
    "with engine.connect() as connection:\n",
    "    inspector = inspect(connection)\n",
    "    schema_names = inspector.get_schema_names()\n",
    "\n",
    "# Create a PrettyTable object\n",
    "table = PrettyTable()\n",
    "table.field_names = [\"Schema Names\"]\n",
    "\n",
    "# Add schema names to the table\n",
    "for schema in schema_names:\n",
    "    table.add_row([schema])\n",
    "\n",
    "# Print the table\n",
    "print(table)\n"
   ]
  },
  {
   "cell_type": "markdown",
   "metadata": {},
   "source": [
    "### Fetching all table names"
   ]
  },
  {
   "cell_type": "code",
   "execution_count": null,
   "metadata": {},
   "outputs": [],
   "source": [
    "import json\n",
    "from sqlalchemy import create_engine, inspect\n",
    "\n",
    "# Create the connection string\n",
    "connection_string = f\"oracle+cx_oracle://{username}:{password}@{host}:{port}/?service_name={service_name}\"\n",
    "\n",
    "# Create an SQLAlchemy engine\n",
    "engine = create_engine(connection_string)\n",
    "\n",
    "# Schema name to filter\n",
    "schema_name = 'toyogil'\n",
    "\n",
    "# Connect to the database and fetch table names from the specified schema\n",
    "with engine.connect() as connection:\n",
    "    inspector = inspect(connection)\n",
    "    table_names = inspector.get_table_names(schema=schema_name)\n",
    "\n",
    "# Convert the table names into a dictionary\n",
    "table_dict = {\"Table Names\": table_names}\n",
    "\n",
    "# Convert the dictionary to a JSON string and prettify it\n",
    "pretty_json = json.dumps(table_dict, indent=4)\n",
    "\n",
    "# Print the prettified JSON string\n",
    "print(pretty_json)\n"
   ]
  },
  {
   "cell_type": "markdown",
   "metadata": {},
   "source": [
    "### Fetch all table names and columns"
   ]
  },
  {
   "cell_type": "code",
   "execution_count": null,
   "metadata": {},
   "outputs": [],
   "source": [
    "import json\n",
    "from sqlalchemy import create_engine, inspect\n",
    "\n",
    "# Create the connection string\n",
    "connection_string = f\"oracle+cx_oracle://{username}:{password}@{host}:{port}/?service_name={service_name}\"\n",
    "\n",
    "# Create an SQLAlchemy engine\n",
    "engine = create_engine(connection_string)\n",
    "\n",
    "# Schema name to filter\n",
    "schema_name = 'toyogil'\n",
    "\n",
    "# Connect to the database and fetch table names and columns from the specified schema\n",
    "with engine.connect() as connection:\n",
    "    inspector = inspect(connection)\n",
    "    table_names = inspector.get_table_names(schema=schema_name)\n",
    "    \n",
    "    # Dictionary to store tables and their columns\n",
    "    schema_dict = {}\n",
    "    \n",
    "    for table_name in table_names:\n",
    "        columns = inspector.get_columns(table_name, schema=schema_name)\n",
    "        schema_dict[table_name] = [column['name'] for column in columns]\n",
    "\n",
    "# Convert the dictionary to a JSON string and prettify it\n",
    "pretty_json = json.dumps(schema_dict, indent=4)\n",
    "\n",
    "# Print the prettified JSON string\n",
    "print(pretty_json)\n"
   ]
  },
  {
   "cell_type": "markdown",
   "metadata": {},
   "source": [
    "### Troubleshooting"
   ]
  },
  {
   "cell_type": "code",
   "execution_count": null,
   "metadata": {},
   "outputs": [],
   "source": [
    "from sqlalchemy import create_engine, inspect, MetaData, Table, select, func\n",
    "from prettytable import PrettyTable\n",
    "\n",
    "# Create the connection string\n",
    "connection_string = f\"oracle+cx_oracle://{username}:{password}@{host}:{port}/?service_name={service_name}\"\n",
    "\n",
    "# Create an SQLAlchemy engine\n",
    "engine = create_engine(connection_string)\n",
    "\n",
    "# Connect to the database and fetch unique table names with corresponding comments\n",
    "with engine.connect() as connection:\n",
    "    # Reflect the table\n",
    "    metadata = MetaData()\n",
    "    table = Table('ia_ttablacolum_comments', metadata, autoload_with=engine)\n",
    "\n",
    "    # Subquery to select the distinct table names with corresponding comments\n",
    "    subquery = select(\n",
    "        table.c.table_name,\n",
    "        func.min(table.c.comments_table).label('comments_table')\n",
    "    ).group_by(table.c.table_name).subquery()\n",
    "\n",
    "    # Execute the subquery to get the results\n",
    "    query = select(subquery.c.table_name, subquery.c.comments_table)\n",
    "    result = connection.execute(query)\n",
    "    \n",
    "    # Create a PrettyTable object\n",
    "    pretty_table = PrettyTable()\n",
    "    pretty_table.field_names = [\"Table Name\", \"Comments\"]\n",
    "\n",
    "    # Add rows to the PrettyTable object\n",
    "    for row in result:\n",
    "        pretty_table.add_row(row)\n",
    "\n",
    "# Print the table\n",
    "print(pretty_table)\n"
   ]
  },
  {
   "cell_type": "code",
   "execution_count": null,
   "metadata": {},
   "outputs": [],
   "source": [
    "from sqlalchemy import create_engine, text\n",
    "\n",
    "# Construct the connection string for Oracle\n",
    "connection_string = f'oracle+cx_oracle://{username}:{password}@{host}:{port}/?service_name={service_name}'\n",
    "\n",
    "# Establish connection to your database\n",
    "engine = create_engine(connection_string)\n",
    "\n",
    "# List of table names\n",
    "table_names = ['AD_TDOCCOMPR']\n",
    "#, 'AD_TDETCOMPR', 'RE_TDOCVENTA', 'RE_TDETVENTA']\n",
    "\n",
    "# Function to fetch and print metadata for a table\n",
    "def fetch_and_print_metadata(table_name):\n",
    "    # Query to get columns\n",
    "    columns_query = text(f\"\"\"\n",
    "    SELECT column_name, data_type\n",
    "    FROM all_tab_columns \n",
    "    WHERE table_name = '{table_name.upper()}'\n",
    "    \"\"\")\n",
    "    \n",
    "    # Query to get column comments\n",
    "    comments_query = text(f\"\"\"\n",
    "    SELECT column_name, comments \n",
    "    FROM all_col_comments \n",
    "    WHERE table_name = '{table_name.upper()}'\n",
    "    \"\"\")\n",
    "    \n",
    "    with engine.connect() as connection:\n",
    "        print(f\"Metadata for table: {table_name}\")\n",
    "        \n",
    "        # Fetch and print column names and data types\n",
    "        result = connection.execute(columns_query)\n",
    "        print(\"Columns:\")\n",
    "        for row in result:\n",
    "            print(row)\n",
    "        \n",
    "        # Fetch and print column comments\n",
    "        result = connection.execute(comments_query)\n",
    "        print(\"Comments:\")\n",
    "        for row in result:\n",
    "            print(row)\n",
    "        \n",
    "        print(\"\\n\")\n",
    "\n",
    "# Fetch and print metadata for each table\n",
    "for table in table_names:\n",
    "    fetch_and_print_metadata(table)\n"
   ]
  }
 ],
 "metadata": {
  "kernelspec": {
   "display_name": "Python 3",
   "language": "python",
   "name": "python3"
  },
  "language_info": {
   "codemirror_mode": {
    "name": "ipython",
    "version": 3
   },
   "file_extension": ".py",
   "mimetype": "text/x-python",
   "name": "python",
   "nbconvert_exporter": "python",
   "pygments_lexer": "ipython3",
   "version": "3.10.13"
  }
 },
 "nbformat": 4,
 "nbformat_minor": 2
}
